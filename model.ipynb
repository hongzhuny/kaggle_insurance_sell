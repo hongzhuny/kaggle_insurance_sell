{
 "cells": [
  {
   "cell_type": "code",
   "execution_count": 104,
   "metadata": {},
   "outputs": [],
   "source": [
    "import pandas as pd\n",
    "import numpy as np\n",
    "import matplotlib.pyplot as plt\n",
    "import seaborn as sns\n"
   ]
  },
  {
   "cell_type": "code",
   "execution_count": 105,
   "metadata": {},
   "outputs": [],
   "source": [
    "df_train_raw1 = pd.read_csv('datasets/train.csv')\n",
    "df_test = pd.read_csv('datasets/test.csv')"
   ]
  },
  {
   "cell_type": "code",
   "execution_count": 107,
   "metadata": {},
   "outputs": [
    {
     "data": {
      "text/html": [
       "<div>\n",
       "<style scoped>\n",
       "    .dataframe tbody tr th:only-of-type {\n",
       "        vertical-align: middle;\n",
       "    }\n",
       "\n",
       "    .dataframe tbody tr th {\n",
       "        vertical-align: top;\n",
       "    }\n",
       "\n",
       "    .dataframe thead th {\n",
       "        text-align: right;\n",
       "    }\n",
       "</style>\n",
       "<table border=\"1\" class=\"dataframe\">\n",
       "  <thead>\n",
       "    <tr style=\"text-align: right;\">\n",
       "      <th></th>\n",
       "      <th>ResponseRate</th>\n",
       "      <th>Response</th>\n",
       "      <th>rowct</th>\n",
       "    </tr>\n",
       "    <tr>\n",
       "      <th>Region_Code</th>\n",
       "      <th></th>\n",
       "      <th></th>\n",
       "      <th></th>\n",
       "    </tr>\n",
       "  </thead>\n",
       "  <tbody>\n",
       "    <tr>\n",
       "      <th>28.0</th>\n",
       "      <td>0.191811</td>\n",
       "      <td>661951</td>\n",
       "      <td>3451062</td>\n",
       "    </tr>\n",
       "    <tr>\n",
       "      <th>38.0</th>\n",
       "      <td>0.190420</td>\n",
       "      <td>11537</td>\n",
       "      <td>60587</td>\n",
       "    </tr>\n",
       "    <tr>\n",
       "      <th>51.0</th>\n",
       "      <td>0.187766</td>\n",
       "      <td>353</td>\n",
       "      <td>1880</td>\n",
       "    </tr>\n",
       "  </tbody>\n",
       "</table>\n",
       "</div>"
      ],
      "text/plain": [
       "             ResponseRate  Response    rowct\n",
       "Region_Code                                 \n",
       "28.0             0.191811    661951  3451062\n",
       "38.0             0.190420     11537    60587\n",
       "51.0             0.187766       353     1880"
      ]
     },
     "execution_count": 107,
     "metadata": {},
     "output_type": "execute_result"
    }
   ],
   "source": [
    "df_train_raw1['rowct'] = 1\n",
    "summary_region = df_train_raw1.groupby('Region_Code').sum('Response').sort_values('Response', ascending=True)\n",
    "summary_region['ResponseRate'] = summary_region['Response'] / summary_region['rowct']\n",
    "summary_region[['ResponseRate', 'Response', 'rowct']].sort_values('ResponseRate', ascending=False).head(3)"
   ]
  },
  {
   "cell_type": "code",
   "execution_count": 115,
   "metadata": {},
   "outputs": [],
   "source": [
    "df_train_raw = df_train_raw1.merge(summary_region[['ResponseRate']], on='Region_Code', how='left')\n",
    "df_train_raw['ResponseRate'] = df_train_raw['ResponseRate'].fillna(0)\n",
    "df_train_raw['AgeGroup'] = np.where((df_train_raw['Age'] >= 25) & (df_train_raw['Age'] <= 72) , 1, 0)\n",
    "\n",
    "df_test = df_test.merge(summary_region[['ResponseRate']], on='Region_Code', how='left')\n",
    "df_test['ResponseRate'] = df_test['ResponseRate'].fillna(0)\n",
    "df_test['AgeGroup'] = np.where((df_test['Age'] >= 25 ) & (df_test['Age'] <= 72 ) , 1, 0)"
   ]
  },
  {
   "cell_type": "code",
   "execution_count": 116,
   "metadata": {},
   "outputs": [
    {
     "data": {
      "text/plain": [
       "Index(['id', 'Gender', 'Age', 'Driving_License', 'Region_Code',\n",
       "       'Previously_Insured', 'Vehicle_Age', 'Vehicle_Damage', 'Annual_Premium',\n",
       "       'Policy_Sales_Channel', 'Vintage', 'Response', 'rowct', 'ResponseRate',\n",
       "       'AgeGroup'],\n",
       "      dtype='object')"
      ]
     },
     "execution_count": 116,
     "metadata": {},
     "output_type": "execute_result"
    }
   ],
   "source": [
    "df_train_raw.columns"
   ]
  },
  {
   "cell_type": "code",
   "execution_count": 117,
   "metadata": {},
   "outputs": [],
   "source": [
    "df_train_0 = df_train_raw[df_train_raw['Response'] == 0].sample(frac = 0.4, random_state = 42)\n",
    "df_train_1 = df_train_raw[df_train_raw['Response'] == 1]\n",
    "df_train = pd.concat([df_train_0, df_train_1], axis = 0)"
   ]
  },
  {
   "cell_type": "code",
   "execution_count": 118,
   "metadata": {},
   "outputs": [
    {
     "data": {
      "text/html": [
       "<div>\n",
       "<style scoped>\n",
       "    .dataframe tbody tr th:only-of-type {\n",
       "        vertical-align: middle;\n",
       "    }\n",
       "\n",
       "    .dataframe tbody tr th {\n",
       "        vertical-align: top;\n",
       "    }\n",
       "\n",
       "    .dataframe thead th {\n",
       "        text-align: right;\n",
       "    }\n",
       "</style>\n",
       "<table border=\"1\" class=\"dataframe\">\n",
       "  <thead>\n",
       "    <tr style=\"text-align: right;\">\n",
       "      <th>Vehicle_Age</th>\n",
       "      <th>1-2 Year</th>\n",
       "      <th>&lt; 1 Year</th>\n",
       "      <th>&gt; 2 Years</th>\n",
       "    </tr>\n",
       "  </thead>\n",
       "  <tbody>\n",
       "    <tr>\n",
       "      <th>Response</th>\n",
       "      <td>0.177725</td>\n",
       "      <td>0.041404</td>\n",
       "      <td>0.299049</td>\n",
       "    </tr>\n",
       "  </tbody>\n",
       "</table>\n",
       "</div>"
      ],
      "text/plain": [
       "Vehicle_Age  1-2 Year  < 1 Year  > 2 Years\n",
       "Response     0.177725  0.041404   0.299049"
      ]
     },
     "execution_count": 118,
     "metadata": {},
     "output_type": "execute_result"
    }
   ],
   "source": [
    "df_train_raw.pivot_table( columns = 'Vehicle_Age', values = 'Response', aggfunc = 'mean')"
   ]
  },
  {
   "cell_type": "code",
   "execution_count": 119,
   "metadata": {},
   "outputs": [
    {
     "data": {
      "text/plain": [
       "Response\n",
       "0    4035896\n",
       "1    1415059\n",
       "Name: count, dtype: int64"
      ]
     },
     "execution_count": 119,
     "metadata": {},
     "output_type": "execute_result"
    }
   ],
   "source": [
    "df_train.value_counts('Response')"
   ]
  },
  {
   "cell_type": "code",
   "execution_count": 136,
   "metadata": {},
   "outputs": [],
   "source": [
    "from sklearn.model_selection import train_test_split\n",
    "\n",
    "# Split the dataframe into features (X) and target variable (y)\n",
    "X = df_train.drop('Response', axis=1)\n",
    "y = df_train['Response']\n",
    "\n",
    "X['Gender1'] = np.where(X['Gender'] == 'Male', 1, 0)\n",
    "X['Vehicle_Damage1'] = np.where(X['Vehicle_Damage'] == 'Yes', 1, 0)\n",
    "X['Vehicle_Age_over2'] = np.where(X['Vehicle_Age'] == '> 2 Years', 1, 0)\n",
    "\n",
    "\n",
    "\n",
    "df_test['Gender1'] = np.where(df_test['Gender'] == 'Male', 1, 0)\n",
    "df_test['Vehicle_Damage1'] = np.where(df_test['Vehicle_Damage'] == 'Yes', 1, 0)\n",
    "df_test['Vehicle_Age_over2'] = np.where(df_test['Vehicle_Age'] == '> 2 Years', 1, 0)\n",
    "\n",
    "\n",
    "# Select the categorical variables for building the decision tree\n",
    "categorical_vars = ['Vehicle_Damage1', 'Driving_License', 'Previously_Insured']\n",
    "numeric_vars = ['Annual_Premium', 'Age']\n",
    "varused = categorical_vars + numeric_vars\n",
    "\n",
    "# Split the data into training and testing datasets\n",
    "X_train, X_test, y_train, y_test = train_test_split(X, y, test_size=0.3, random_state=42)"
   ]
  },
  {
   "cell_type": "code",
   "execution_count": 137,
   "metadata": {},
   "outputs": [
    {
     "name": "stdout",
     "output_type": "stream",
     "text": [
      "categorical_vars:  ['Vehicle_Damage1', 'Driving_License', 'Previously_Insured']\n",
      "numeric_vars:  ['Annual_Premium', 'Age']\n",
      "              precision    recall  f1-score   support\n",
      "\n",
      "           0       0.83      0.87      0.85   1211034\n",
      "           1       0.57      0.47      0.52    424253\n",
      "\n",
      "    accuracy                           0.77   1635287\n",
      "   macro avg       0.70      0.67      0.68   1635287\n",
      "weighted avg       0.76      0.77      0.76   1635287\n",
      "\n"
     ]
    }
   ],
   "source": [
    "from sklearn.tree import DecisionTreeClassifier\n",
    "from sklearn.metrics import classification_report\n",
    "\n",
    "X_categorical = X_train[varused]\n",
    "\n",
    "# Initialize the decision tree classifier\n",
    "dt_classifier = DecisionTreeClassifier()\n",
    "\n",
    "# Fit the decision tree classifier on the categorical variables\n",
    "dt_classifier.fit(X_categorical, y_train)\n",
    "\n",
    "# Predict the response variable for the testing set\n",
    "y_pred = dt_classifier.predict(X_test[varused])\n",
    "\n",
    "\n",
    "# Print the classification report\n",
    "print('categorical_vars: ', categorical_vars)\n",
    "print('numeric_vars: ', numeric_vars)\n",
    "print(classification_report(y_test, y_pred))"
   ]
  },
  {
   "cell_type": "markdown",
   "metadata": {},
   "source": [
    "Model 4:\n",
    "\n",
    "categorical_vars = ['Vehicle_Damage1', 'Driving_License', 'Vehicle_Age_over2', 'Previously_Insured', 'AgeGroup']\n",
    "numeric_vars = ['Annual_Premium', 'ResponseRate']\n",
    "varused = categorical_vars + numeric_vars\n",
    "\n",
    "              precision    recall  f1-score   support\n",
    "\n",
    "           0       0.83      0.87      0.85   1211034\n",
    "           1       0.58      0.51      0.54    424253\n",
    "\n",
    "    accuracy                           0.78   1635287\n",
    "   macro avg       0.71      0.69      0.70   1635287\n",
    "weighted avg       0.77      0.78      0.77   1635287\n",
    "\n",
    "\n",
    "Model 5:\n",
    "categorical_vars:  ['Vehicle_Damage1', 'Driving_License', 'Previously_Insured', 'AgeGroup']\n",
    "numeric_vars:  ['Annual_Premium', 'ResponseRate']\n",
    "              precision    recall  f1-score   support\n",
    "\n",
    "           0       0.84      0.87      0.85   1211034\n",
    "           1       0.58      0.51      0.54    424253\n",
    "\n",
    "    accuracy                           0.78   1635287\n",
    "   macro avg       0.71      0.69      0.70   1635287\n",
    "weighted avg       0.77      0.78      0.77   1635287\n",
    "\n"
   ]
  },
  {
   "cell_type": "code",
   "execution_count": 138,
   "metadata": {},
   "outputs": [],
   "source": [
    "y_pred1 = pd.DataFrame(y_pred)"
   ]
  },
  {
   "cell_type": "code",
   "execution_count": 139,
   "metadata": {},
   "outputs": [
    {
     "data": {
      "text/plain": [
       "(1635287, 1)"
      ]
     },
     "execution_count": 139,
     "metadata": {},
     "output_type": "execute_result"
    }
   ],
   "source": [
    "y_pred1.shape"
   ]
  },
  {
   "cell_type": "code",
   "execution_count": 140,
   "metadata": {},
   "outputs": [
    {
     "data": {
      "text/plain": [
       "0\n",
       "0    1283313\n",
       "1     351974\n",
       "Name: count, dtype: int64"
      ]
     },
     "execution_count": 140,
     "metadata": {},
     "output_type": "execute_result"
    }
   ],
   "source": [
    "y_pred1.value_counts()"
   ]
  },
  {
   "cell_type": "code",
   "execution_count": 141,
   "metadata": {},
   "outputs": [],
   "source": [
    "\n",
    "# Use the decision tree model to predict the test dataset\n",
    "X_test_categorical = df_test[varused]\n",
    "y_pred_test = dt_classifier.predict(X_test_categorical)\n",
    "\n",
    "# Create a dataframe with the predicted values\n",
    "df_test_pred = pd.DataFrame({'id': df_test['id'], 'Response': y_pred_test})\n",
    "\n",
    "# Print the predicted dataframe\n",
    "df_test_pred.to_csv('datasets/test_pred.csv', index=False)"
   ]
  },
  {
   "cell_type": "code",
   "execution_count": 130,
   "metadata": {},
   "outputs": [
    {
     "data": {
      "text/plain": [
       "Response\n",
       "0    6322409\n",
       "1    1347457\n",
       "Name: count, dtype: int64"
      ]
     },
     "execution_count": 130,
     "metadata": {},
     "output_type": "execute_result"
    }
   ],
   "source": [
    "df_test_pred.value_counts('Response')"
   ]
  },
  {
   "cell_type": "code",
   "execution_count": 131,
   "metadata": {},
   "outputs": [
    {
     "data": {
      "text/html": [
       "<div>\n",
       "<style scoped>\n",
       "    .dataframe tbody tr th:only-of-type {\n",
       "        vertical-align: middle;\n",
       "    }\n",
       "\n",
       "    .dataframe tbody tr th {\n",
       "        vertical-align: top;\n",
       "    }\n",
       "\n",
       "    .dataframe thead th {\n",
       "        text-align: right;\n",
       "    }\n",
       "</style>\n",
       "<table border=\"1\" class=\"dataframe\">\n",
       "  <thead>\n",
       "    <tr style=\"text-align: right;\">\n",
       "      <th></th>\n",
       "      <th>id</th>\n",
       "      <th>Response</th>\n",
       "    </tr>\n",
       "  </thead>\n",
       "  <tbody>\n",
       "    <tr>\n",
       "      <th>0</th>\n",
       "      <td>11504798</td>\n",
       "      <td>0</td>\n",
       "    </tr>\n",
       "    <tr>\n",
       "      <th>1</th>\n",
       "      <td>11504799</td>\n",
       "      <td>1</td>\n",
       "    </tr>\n",
       "    <tr>\n",
       "      <th>2</th>\n",
       "      <td>11504800</td>\n",
       "      <td>0</td>\n",
       "    </tr>\n",
       "    <tr>\n",
       "      <th>3</th>\n",
       "      <td>11504801</td>\n",
       "      <td>0</td>\n",
       "    </tr>\n",
       "    <tr>\n",
       "      <th>4</th>\n",
       "      <td>11504802</td>\n",
       "      <td>0</td>\n",
       "    </tr>\n",
       "  </tbody>\n",
       "</table>\n",
       "</div>"
      ],
      "text/plain": [
       "         id  Response\n",
       "0  11504798         0\n",
       "1  11504799         1\n",
       "2  11504800         0\n",
       "3  11504801         0\n",
       "4  11504802         0"
      ]
     },
     "execution_count": 131,
     "metadata": {},
     "output_type": "execute_result"
    }
   ],
   "source": [
    "df_test_pred.head()"
   ]
  },
  {
   "cell_type": "code",
   "execution_count": 132,
   "metadata": {},
   "outputs": [
    {
     "data": {
      "text/html": [
       "<div>\n",
       "<style scoped>\n",
       "    .dataframe tbody tr th:only-of-type {\n",
       "        vertical-align: middle;\n",
       "    }\n",
       "\n",
       "    .dataframe tbody tr th {\n",
       "        vertical-align: top;\n",
       "    }\n",
       "\n",
       "    .dataframe thead th {\n",
       "        text-align: right;\n",
       "    }\n",
       "</style>\n",
       "<table border=\"1\" class=\"dataframe\">\n",
       "  <thead>\n",
       "    <tr style=\"text-align: right;\">\n",
       "      <th></th>\n",
       "      <th>Vehicle_Damage1</th>\n",
       "      <th>Driving_License</th>\n",
       "      <th>Vehicle_Age_over2</th>\n",
       "      <th>Previously_Insured</th>\n",
       "      <th>AgeGroup</th>\n",
       "      <th>Annual_Premium</th>\n",
       "      <th>ResponseRate</th>\n",
       "    </tr>\n",
       "  </thead>\n",
       "  <tbody>\n",
       "    <tr>\n",
       "      <th>Vehicle_Damage1</th>\n",
       "      <td>1.000000</td>\n",
       "      <td>-0.010300</td>\n",
       "      <td>0.197589</td>\n",
       "      <td>-0.851235</td>\n",
       "      <td>0.236563</td>\n",
       "      <td>0.025158</td>\n",
       "      <td>0.230117</td>\n",
       "    </tr>\n",
       "    <tr>\n",
       "      <th>Driving_License</th>\n",
       "      <td>-0.010300</td>\n",
       "      <td>1.000000</td>\n",
       "      <td>-0.004954</td>\n",
       "      <td>0.008888</td>\n",
       "      <td>0.000013</td>\n",
       "      <td>-0.006892</td>\n",
       "      <td>-0.010886</td>\n",
       "    </tr>\n",
       "    <tr>\n",
       "      <th>Vehicle_Age_over2</th>\n",
       "      <td>0.197589</td>\n",
       "      <td>-0.004954</td>\n",
       "      <td>1.000000</td>\n",
       "      <td>-0.184602</td>\n",
       "      <td>0.104359</td>\n",
       "      <td>0.070232</td>\n",
       "      <td>0.144030</td>\n",
       "    </tr>\n",
       "    <tr>\n",
       "      <th>Previously_Insured</th>\n",
       "      <td>-0.851235</td>\n",
       "      <td>0.008888</td>\n",
       "      <td>-0.184602</td>\n",
       "      <td>1.000000</td>\n",
       "      <td>-0.237012</td>\n",
       "      <td>-0.004382</td>\n",
       "      <td>-0.214908</td>\n",
       "    </tr>\n",
       "    <tr>\n",
       "      <th>AgeGroup</th>\n",
       "      <td>0.236563</td>\n",
       "      <td>0.000013</td>\n",
       "      <td>0.104359</td>\n",
       "      <td>-0.237012</td>\n",
       "      <td>1.000000</td>\n",
       "      <td>-0.009994</td>\n",
       "      <td>0.269317</td>\n",
       "    </tr>\n",
       "    <tr>\n",
       "      <th>Annual_Premium</th>\n",
       "      <td>0.025158</td>\n",
       "      <td>-0.006892</td>\n",
       "      <td>0.070232</td>\n",
       "      <td>-0.004382</td>\n",
       "      <td>-0.009994</td>\n",
       "      <td>1.000000</td>\n",
       "      <td>0.326881</td>\n",
       "    </tr>\n",
       "    <tr>\n",
       "      <th>ResponseRate</th>\n",
       "      <td>0.230117</td>\n",
       "      <td>-0.010886</td>\n",
       "      <td>0.144030</td>\n",
       "      <td>-0.214908</td>\n",
       "      <td>0.269317</td>\n",
       "      <td>0.326881</td>\n",
       "      <td>1.000000</td>\n",
       "    </tr>\n",
       "  </tbody>\n",
       "</table>\n",
       "</div>"
      ],
      "text/plain": [
       "                    Vehicle_Damage1  Driving_License  Vehicle_Age_over2  \\\n",
       "Vehicle_Damage1            1.000000        -0.010300           0.197589   \n",
       "Driving_License           -0.010300         1.000000          -0.004954   \n",
       "Vehicle_Age_over2          0.197589        -0.004954           1.000000   \n",
       "Previously_Insured        -0.851235         0.008888          -0.184602   \n",
       "AgeGroup                   0.236563         0.000013           0.104359   \n",
       "Annual_Premium             0.025158        -0.006892           0.070232   \n",
       "ResponseRate               0.230117        -0.010886           0.144030   \n",
       "\n",
       "                    Previously_Insured  AgeGroup  Annual_Premium  ResponseRate  \n",
       "Vehicle_Damage1              -0.851235  0.236563        0.025158      0.230117  \n",
       "Driving_License               0.008888  0.000013       -0.006892     -0.010886  \n",
       "Vehicle_Age_over2            -0.184602  0.104359        0.070232      0.144030  \n",
       "Previously_Insured            1.000000 -0.237012       -0.004382     -0.214908  \n",
       "AgeGroup                     -0.237012  1.000000       -0.009994      0.269317  \n",
       "Annual_Premium               -0.004382 -0.009994        1.000000      0.326881  \n",
       "ResponseRate                 -0.214908  0.269317        0.326881      1.000000  "
      ]
     },
     "execution_count": 132,
     "metadata": {},
     "output_type": "execute_result"
    }
   ],
   "source": [
    "X[varused].corr()"
   ]
  },
  {
   "cell_type": "code",
   "execution_count": 133,
   "metadata": {},
   "outputs": [
    {
     "data": {
      "text/html": [
       "<div>\n",
       "<style scoped>\n",
       "    .dataframe tbody tr th:only-of-type {\n",
       "        vertical-align: middle;\n",
       "    }\n",
       "\n",
       "    .dataframe tbody tr th {\n",
       "        vertical-align: top;\n",
       "    }\n",
       "\n",
       "    .dataframe thead th {\n",
       "        text-align: right;\n",
       "    }\n",
       "</style>\n",
       "<table border=\"1\" class=\"dataframe\">\n",
       "  <thead>\n",
       "    <tr style=\"text-align: right;\">\n",
       "      <th></th>\n",
       "      <th>Response</th>\n",
       "    </tr>\n",
       "    <tr>\n",
       "      <th>Age</th>\n",
       "      <th></th>\n",
       "    </tr>\n",
       "  </thead>\n",
       "  <tbody>\n",
       "    <tr>\n",
       "      <th>20</th>\n",
       "      <td>0.022438</td>\n",
       "    </tr>\n",
       "    <tr>\n",
       "      <th>21</th>\n",
       "      <td>0.031871</td>\n",
       "    </tr>\n",
       "    <tr>\n",
       "      <th>22</th>\n",
       "      <td>0.032953</td>\n",
       "    </tr>\n",
       "    <tr>\n",
       "      <th>23</th>\n",
       "      <td>0.033138</td>\n",
       "    </tr>\n",
       "    <tr>\n",
       "      <th>24</th>\n",
       "      <td>0.031142</td>\n",
       "    </tr>\n",
       "    <tr>\n",
       "      <th>...</th>\n",
       "      <td>...</td>\n",
       "    </tr>\n",
       "    <tr>\n",
       "      <th>81</th>\n",
       "      <td>0.058824</td>\n",
       "    </tr>\n",
       "    <tr>\n",
       "      <th>82</th>\n",
       "      <td>0.011765</td>\n",
       "    </tr>\n",
       "    <tr>\n",
       "      <th>83</th>\n",
       "      <td>0.049383</td>\n",
       "    </tr>\n",
       "    <tr>\n",
       "      <th>84</th>\n",
       "      <td>0.000000</td>\n",
       "    </tr>\n",
       "    <tr>\n",
       "      <th>85</th>\n",
       "      <td>0.000000</td>\n",
       "    </tr>\n",
       "  </tbody>\n",
       "</table>\n",
       "<p>66 rows × 1 columns</p>\n",
       "</div>"
      ],
      "text/plain": [
       "     Response\n",
       "Age          \n",
       "20   0.022438\n",
       "21   0.031871\n",
       "22   0.032953\n",
       "23   0.033138\n",
       "24   0.031142\n",
       "..        ...\n",
       "81   0.058824\n",
       "82   0.011765\n",
       "83   0.049383\n",
       "84   0.000000\n",
       "85   0.000000\n",
       "\n",
       "[66 rows x 1 columns]"
      ]
     },
     "execution_count": 133,
     "metadata": {},
     "output_type": "execute_result"
    }
   ],
   "source": [
    "df_train_raw.pivot_table(index= 'Age', values = 'Response', aggfunc = 'mean')"
   ]
  },
  {
   "cell_type": "markdown",
   "metadata": {},
   "source": [
    "Look into continuous variables vs response"
   ]
  },
  {
   "cell_type": "code",
   "execution_count": 45,
   "metadata": {},
   "outputs": [
    {
     "data": {
      "text/html": [
       "<div>\n",
       "<style scoped>\n",
       "    .dataframe tbody tr th:only-of-type {\n",
       "        vertical-align: middle;\n",
       "    }\n",
       "\n",
       "    .dataframe tbody tr th {\n",
       "        vertical-align: top;\n",
       "    }\n",
       "\n",
       "    .dataframe thead th {\n",
       "        text-align: right;\n",
       "    }\n",
       "</style>\n",
       "<table border=\"1\" class=\"dataframe\">\n",
       "  <thead>\n",
       "    <tr style=\"text-align: right;\">\n",
       "      <th></th>\n",
       "      <th>Response</th>\n",
       "      <th>Age</th>\n",
       "      <th>Annual_Premium</th>\n",
       "      <th>Vintage</th>\n",
       "    </tr>\n",
       "  </thead>\n",
       "  <tbody>\n",
       "    <tr>\n",
       "      <th>Response</th>\n",
       "      <td>1.000000</td>\n",
       "      <td>0.122134</td>\n",
       "      <td>0.032261</td>\n",
       "      <td>-0.015177</td>\n",
       "    </tr>\n",
       "    <tr>\n",
       "      <th>Age</th>\n",
       "      <td>0.122134</td>\n",
       "      <td>1.000000</td>\n",
       "      <td>0.056327</td>\n",
       "      <td>-0.013293</td>\n",
       "    </tr>\n",
       "    <tr>\n",
       "      <th>Annual_Premium</th>\n",
       "      <td>0.032261</td>\n",
       "      <td>0.056327</td>\n",
       "      <td>1.000000</td>\n",
       "      <td>0.003284</td>\n",
       "    </tr>\n",
       "    <tr>\n",
       "      <th>Vintage</th>\n",
       "      <td>-0.015177</td>\n",
       "      <td>-0.013293</td>\n",
       "      <td>0.003284</td>\n",
       "      <td>1.000000</td>\n",
       "    </tr>\n",
       "  </tbody>\n",
       "</table>\n",
       "</div>"
      ],
      "text/plain": [
       "                Response       Age  Annual_Premium   Vintage\n",
       "Response        1.000000  0.122134        0.032261 -0.015177\n",
       "Age             0.122134  1.000000        0.056327 -0.013293\n",
       "Annual_Premium  0.032261  0.056327        1.000000  0.003284\n",
       "Vintage        -0.015177 -0.013293        0.003284  1.000000"
      ]
     },
     "execution_count": 45,
     "metadata": {},
     "output_type": "execute_result"
    }
   ],
   "source": [
    "df_train_raw[['Response', 'Age', 'Annual_Premium', 'Vintage']].corr()"
   ]
  },
  {
   "cell_type": "code",
   "execution_count": 78,
   "metadata": {},
   "outputs": [
    {
     "data": {
      "text/plain": [
       "AgeGroup\n",
       "25-72     7783596\n",
       "0-24      3538611\n",
       "73-100     182591\n",
       "Name: count, dtype: int64"
      ]
     },
     "execution_count": 78,
     "metadata": {},
     "output_type": "execute_result"
    }
   ],
   "source": [
    "df_train_raw['AgeGroup'] = pd.cut(df_train_raw['Age'], bins = [0, 25, 73, 100], labels = ['0-24', '25-72', '73-100'])\n",
    "df_train_raw.value_counts('AgeGroup')\n",
    "\n"
   ]
  },
  {
   "cell_type": "markdown",
   "metadata": {},
   "source": [
    "Look into categorical variables vs response"
   ]
  },
  {
   "cell_type": "code",
   "execution_count": 79,
   "metadata": {},
   "outputs": [
    {
     "name": "stderr",
     "output_type": "stream",
     "text": [
      "/var/folders/2y/295w_nh94yg378k6m37nf1x00000gn/T/ipykernel_75574/3837051337.py:1: FutureWarning: The default value of observed=False is deprecated and will change to observed=True in a future version of pandas. Specify observed=False to silence this warning and retain the current behavior\n",
      "  summary_region = df_train_raw.pivot_table(index = 'AgeGroup', values = 'Response', aggfunc = 'mean')\n"
     ]
    },
    {
     "data": {
      "text/html": [
       "<div>\n",
       "<style scoped>\n",
       "    .dataframe tbody tr th:only-of-type {\n",
       "        vertical-align: middle;\n",
       "    }\n",
       "\n",
       "    .dataframe tbody tr th {\n",
       "        vertical-align: top;\n",
       "    }\n",
       "\n",
       "    .dataframe thead th {\n",
       "        text-align: right;\n",
       "    }\n",
       "</style>\n",
       "<table border=\"1\" class=\"dataframe\">\n",
       "  <thead>\n",
       "    <tr style=\"text-align: right;\">\n",
       "      <th></th>\n",
       "      <th>Response</th>\n",
       "    </tr>\n",
       "    <tr>\n",
       "      <th>AgeGroup</th>\n",
       "      <th></th>\n",
       "    </tr>\n",
       "  </thead>\n",
       "  <tbody>\n",
       "    <tr>\n",
       "      <th>25-72</th>\n",
       "      <td>0.166255</td>\n",
       "    </tr>\n",
       "    <tr>\n",
       "      <th>73-100</th>\n",
       "      <td>0.050189</td>\n",
       "    </tr>\n",
       "    <tr>\n",
       "      <th>0-24</th>\n",
       "      <td>0.031603</td>\n",
       "    </tr>\n",
       "  </tbody>\n",
       "</table>\n",
       "</div>"
      ],
      "text/plain": [
       "          Response\n",
       "AgeGroup          \n",
       "25-72     0.166255\n",
       "73-100    0.050189\n",
       "0-24      0.031603"
      ]
     },
     "execution_count": 79,
     "metadata": {},
     "output_type": "execute_result"
    }
   ],
   "source": [
    "summary_region = df_train_raw.pivot_table(index = 'AgeGroup', values = 'Response', aggfunc = 'mean')\n",
    "summary_region.sort_values('Response', ascending = False)\n",
    "#df_train_raw['Region_Code'].value_counts().sort_values(ascending = False)\n"
   ]
  },
  {
   "cell_type": "code",
   "execution_count": 82,
   "metadata": {},
   "outputs": [
    {
     "data": {
      "text/plain": [
       "Index(['id', 'Gender', 'Age', 'Driving_License', 'Region_Code',\n",
       "       'Previously_Insured', 'Vehicle_Age', 'Vehicle_Damage', 'Annual_Premium',\n",
       "       'Policy_Sales_Channel', 'Vintage', 'Response'],\n",
       "      dtype='object')"
      ]
     },
     "execution_count": 82,
     "metadata": {},
     "output_type": "execute_result"
    }
   ],
   "source": [
    "df_train_raw.columns"
   ]
  },
  {
   "cell_type": "code",
   "execution_count": null,
   "metadata": {},
   "outputs": [],
   "source": []
  }
 ],
 "metadata": {
  "kernelspec": {
   "display_name": ".venv",
   "language": "python",
   "name": "python3"
  },
  "language_info": {
   "codemirror_mode": {
    "name": "ipython",
    "version": 3
   },
   "file_extension": ".py",
   "mimetype": "text/x-python",
   "name": "python",
   "nbconvert_exporter": "python",
   "pygments_lexer": "ipython3",
   "version": "3.9.6"
  }
 },
 "nbformat": 4,
 "nbformat_minor": 2
}
